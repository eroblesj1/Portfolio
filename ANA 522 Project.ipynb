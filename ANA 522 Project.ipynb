{
 "cells": [
  {
   "cell_type": "markdown",
   "id": "e0482353-54ef-47d5-9268-69c466278635",
   "metadata": {},
   "source": [
    "# ANA 522P Data Analysis Project\n",
    "### Brendan Kade and Elizabeth Robles\n",
    "### Research question: When hiring influencers for business marketing, what factors (views, subscribers, and income) should we focus on to determine their qualifications, based on successful factors of top global Youtube channels? "
   ]
  },
  {
   "cell_type": "code",
   "execution_count": 589,
   "id": "c83cc492-fb3e-4f8c-85fa-3fb023e53da3",
   "metadata": {},
   "outputs": [],
   "source": [
    "import numpy as np\n",
    "import pandas as pd\n",
    "import seaborn as sns\n",
    "import matplotlib.pyplot as plt"
   ]
  },
  {
   "cell_type": "code",
   "execution_count": 590,
   "id": "a34dd521-b9c8-4a9d-8726-2469a3e9a7d8",
   "metadata": {},
   "outputs": [
    {
     "data": {
      "text/html": [
       "<div>\n",
       "<style scoped>\n",
       "    .dataframe tbody tr th:only-of-type {\n",
       "        vertical-align: middle;\n",
       "    }\n",
       "\n",
       "    .dataframe tbody tr th {\n",
       "        vertical-align: top;\n",
       "    }\n",
       "\n",
       "    .dataframe thead th {\n",
       "        text-align: right;\n",
       "    }\n",
       "</style>\n",
       "<table border=\"1\" class=\"dataframe\">\n",
       "  <thead>\n",
       "    <tr style=\"text-align: right;\">\n",
       "      <th></th>\n",
       "      <th>rank</th>\n",
       "      <th>Youtuber</th>\n",
       "      <th>subscribers</th>\n",
       "      <th>video views</th>\n",
       "      <th>category</th>\n",
       "      <th>Title</th>\n",
       "      <th>uploads</th>\n",
       "      <th>Country</th>\n",
       "      <th>Abbreviation</th>\n",
       "      <th>channel_type</th>\n",
       "      <th>...</th>\n",
       "      <th>subscribers_for_last_30_days</th>\n",
       "      <th>created_year</th>\n",
       "      <th>created_month</th>\n",
       "      <th>created_date</th>\n",
       "      <th>Gross tertiary education enrollment (%)</th>\n",
       "      <th>Population</th>\n",
       "      <th>Unemployment rate</th>\n",
       "      <th>Urban_population</th>\n",
       "      <th>Latitude</th>\n",
       "      <th>Longitude</th>\n",
       "    </tr>\n",
       "  </thead>\n",
       "  <tbody>\n",
       "    <tr>\n",
       "      <th>0</th>\n",
       "      <td>1</td>\n",
       "      <td>T-Series</td>\n",
       "      <td>245000000</td>\n",
       "      <td>2.280000e+11</td>\n",
       "      <td>Music</td>\n",
       "      <td>T-Series</td>\n",
       "      <td>20082</td>\n",
       "      <td>India</td>\n",
       "      <td>IN</td>\n",
       "      <td>Music</td>\n",
       "      <td>...</td>\n",
       "      <td>2000000.0</td>\n",
       "      <td>2006.0</td>\n",
       "      <td>Mar</td>\n",
       "      <td>13.0</td>\n",
       "      <td>28.1</td>\n",
       "      <td>1.366418e+09</td>\n",
       "      <td>5.36</td>\n",
       "      <td>471031528.0</td>\n",
       "      <td>20.593684</td>\n",
       "      <td>78.962880</td>\n",
       "    </tr>\n",
       "    <tr>\n",
       "      <th>1</th>\n",
       "      <td>2</td>\n",
       "      <td>YouTube Movies</td>\n",
       "      <td>170000000</td>\n",
       "      <td>0.000000e+00</td>\n",
       "      <td>Film &amp; Animation</td>\n",
       "      <td>youtubemovies</td>\n",
       "      <td>1</td>\n",
       "      <td>United States</td>\n",
       "      <td>US</td>\n",
       "      <td>Games</td>\n",
       "      <td>...</td>\n",
       "      <td>NaN</td>\n",
       "      <td>2006.0</td>\n",
       "      <td>Mar</td>\n",
       "      <td>5.0</td>\n",
       "      <td>88.2</td>\n",
       "      <td>3.282395e+08</td>\n",
       "      <td>14.70</td>\n",
       "      <td>270663028.0</td>\n",
       "      <td>37.090240</td>\n",
       "      <td>-95.712891</td>\n",
       "    </tr>\n",
       "    <tr>\n",
       "      <th>2</th>\n",
       "      <td>3</td>\n",
       "      <td>MrBeast</td>\n",
       "      <td>166000000</td>\n",
       "      <td>2.836884e+10</td>\n",
       "      <td>Entertainment</td>\n",
       "      <td>MrBeast</td>\n",
       "      <td>741</td>\n",
       "      <td>United States</td>\n",
       "      <td>US</td>\n",
       "      <td>Entertainment</td>\n",
       "      <td>...</td>\n",
       "      <td>8000000.0</td>\n",
       "      <td>2012.0</td>\n",
       "      <td>Feb</td>\n",
       "      <td>20.0</td>\n",
       "      <td>88.2</td>\n",
       "      <td>3.282395e+08</td>\n",
       "      <td>14.70</td>\n",
       "      <td>270663028.0</td>\n",
       "      <td>37.090240</td>\n",
       "      <td>-95.712891</td>\n",
       "    </tr>\n",
       "    <tr>\n",
       "      <th>3</th>\n",
       "      <td>4</td>\n",
       "      <td>Cocomelon - Nursery Rhymes</td>\n",
       "      <td>162000000</td>\n",
       "      <td>1.640000e+11</td>\n",
       "      <td>Education</td>\n",
       "      <td>Cocomelon - Nursery Rhymes</td>\n",
       "      <td>966</td>\n",
       "      <td>United States</td>\n",
       "      <td>US</td>\n",
       "      <td>Education</td>\n",
       "      <td>...</td>\n",
       "      <td>1000000.0</td>\n",
       "      <td>2006.0</td>\n",
       "      <td>Sep</td>\n",
       "      <td>1.0</td>\n",
       "      <td>88.2</td>\n",
       "      <td>3.282395e+08</td>\n",
       "      <td>14.70</td>\n",
       "      <td>270663028.0</td>\n",
       "      <td>37.090240</td>\n",
       "      <td>-95.712891</td>\n",
       "    </tr>\n",
       "    <tr>\n",
       "      <th>4</th>\n",
       "      <td>5</td>\n",
       "      <td>SET India</td>\n",
       "      <td>159000000</td>\n",
       "      <td>1.480000e+11</td>\n",
       "      <td>Shows</td>\n",
       "      <td>SET India</td>\n",
       "      <td>116536</td>\n",
       "      <td>India</td>\n",
       "      <td>IN</td>\n",
       "      <td>Entertainment</td>\n",
       "      <td>...</td>\n",
       "      <td>1000000.0</td>\n",
       "      <td>2006.0</td>\n",
       "      <td>Sep</td>\n",
       "      <td>20.0</td>\n",
       "      <td>28.1</td>\n",
       "      <td>1.366418e+09</td>\n",
       "      <td>5.36</td>\n",
       "      <td>471031528.0</td>\n",
       "      <td>20.593684</td>\n",
       "      <td>78.962880</td>\n",
       "    </tr>\n",
       "  </tbody>\n",
       "</table>\n",
       "<p>5 rows × 28 columns</p>\n",
       "</div>"
      ],
      "text/plain": [
       "   rank                    Youtuber  subscribers   video views  \\\n",
       "0     1                    T-Series    245000000  2.280000e+11   \n",
       "1     2              YouTube Movies    170000000  0.000000e+00   \n",
       "2     3                     MrBeast    166000000  2.836884e+10   \n",
       "3     4  Cocomelon - Nursery Rhymes    162000000  1.640000e+11   \n",
       "4     5                   SET India    159000000  1.480000e+11   \n",
       "\n",
       "           category                       Title  uploads        Country  \\\n",
       "0             Music                    T-Series    20082          India   \n",
       "1  Film & Animation               youtubemovies        1  United States   \n",
       "2     Entertainment                     MrBeast      741  United States   \n",
       "3         Education  Cocomelon - Nursery Rhymes      966  United States   \n",
       "4             Shows                   SET India   116536          India   \n",
       "\n",
       "  Abbreviation   channel_type  ...  subscribers_for_last_30_days  \\\n",
       "0           IN          Music  ...                     2000000.0   \n",
       "1           US          Games  ...                           NaN   \n",
       "2           US  Entertainment  ...                     8000000.0   \n",
       "3           US      Education  ...                     1000000.0   \n",
       "4           IN  Entertainment  ...                     1000000.0   \n",
       "\n",
       "   created_year  created_month  created_date  \\\n",
       "0        2006.0            Mar          13.0   \n",
       "1        2006.0            Mar           5.0   \n",
       "2        2012.0            Feb          20.0   \n",
       "3        2006.0            Sep           1.0   \n",
       "4        2006.0            Sep          20.0   \n",
       "\n",
       "   Gross tertiary education enrollment (%)    Population  Unemployment rate  \\\n",
       "0                                     28.1  1.366418e+09               5.36   \n",
       "1                                     88.2  3.282395e+08              14.70   \n",
       "2                                     88.2  3.282395e+08              14.70   \n",
       "3                                     88.2  3.282395e+08              14.70   \n",
       "4                                     28.1  1.366418e+09               5.36   \n",
       "\n",
       "   Urban_population   Latitude  Longitude  \n",
       "0       471031528.0  20.593684  78.962880  \n",
       "1       270663028.0  37.090240 -95.712891  \n",
       "2       270663028.0  37.090240 -95.712891  \n",
       "3       270663028.0  37.090240 -95.712891  \n",
       "4       471031528.0  20.593684  78.962880  \n",
       "\n",
       "[5 rows x 28 columns]"
      ]
     },
     "execution_count": 590,
     "metadata": {},
     "output_type": "execute_result"
    }
   ],
   "source": [
    "YoutubeData = pd.read_csv(\"Global YouTube Statistics.csv\", encoding=\"latin1\")\n",
    "YoutubeData.head()"
   ]
  },
  {
   "cell_type": "code",
   "execution_count": 591,
   "id": "21a58d5a-7351-4a2d-ab64-abaeb4583e62",
   "metadata": {},
   "outputs": [
    {
     "name": "stdout",
     "output_type": "stream",
     "text": [
      "Dataset Info:\n",
      "<class 'pandas.core.frame.DataFrame'>\n",
      "RangeIndex: 995 entries, 0 to 994\n",
      "Data columns (total 28 columns):\n",
      " #   Column                                   Non-Null Count  Dtype  \n",
      "---  ------                                   --------------  -----  \n",
      " 0   rank                                     995 non-null    int64  \n",
      " 1   Youtuber                                 995 non-null    object \n",
      " 2   subscribers                              995 non-null    int64  \n",
      " 3   video views                              995 non-null    float64\n",
      " 4   category                                 949 non-null    object \n",
      " 5   Title                                    995 non-null    object \n",
      " 6   uploads                                  995 non-null    int64  \n",
      " 7   Country                                  873 non-null    object \n",
      " 8   Abbreviation                             873 non-null    object \n",
      " 9   channel_type                             965 non-null    object \n",
      " 10  video_views_rank                         994 non-null    float64\n",
      " 11  country_rank                             879 non-null    float64\n",
      " 12  channel_type_rank                        962 non-null    float64\n",
      " 13  video_views_for_the_last_30_days         939 non-null    float64\n",
      " 14  lowest_monthly_earnings                  995 non-null    float64\n",
      " 15  highest_monthly_earnings                 995 non-null    float64\n",
      " 16  lowest_yearly_earnings                   995 non-null    float64\n",
      " 17  highest_yearly_earnings                  995 non-null    float64\n",
      " 18  subscribers_for_last_30_days             658 non-null    float64\n",
      " 19  created_year                             990 non-null    float64\n",
      " 20  created_month                            990 non-null    object \n",
      " 21  created_date                             990 non-null    float64\n",
      " 22  Gross tertiary education enrollment (%)  872 non-null    float64\n",
      " 23  Population                               872 non-null    float64\n",
      " 24  Unemployment rate                        872 non-null    float64\n",
      " 25  Urban_population                         872 non-null    float64\n",
      " 26  Latitude                                 872 non-null    float64\n",
      " 27  Longitude                                872 non-null    float64\n",
      "dtypes: float64(18), int64(3), object(7)\n",
      "memory usage: 217.8+ KB\n"
     ]
    }
   ],
   "source": [
    "# Basic dataset information\n",
    "print(\"Dataset Info:\")\n",
    "YoutubeData.info()"
   ]
  },
  {
   "cell_type": "markdown",
   "id": "b298e21c-e285-48d7-a90b-a323c9af6bec",
   "metadata": {},
   "source": [
    "## Dataset Size and Scope\n",
    "\n",
    "There are 995 observations and 28 variables in the entire dataset. We plan to use a subset of this data and include 313 observations and only 7 variables.\n",
    "\n",
    "## Variable Details\n",
    "\n",
    "The seven key variables we plan to use are Country, rank, channel_type, uploads, video views, subscribers, highest_yearly_earnings. Note: We will filter the observations to only US-based accounts using the country variable. Then with only US-based accounts, we can removed this variable."
   ]
  },
  {
   "cell_type": "markdown",
   "id": "3d432796-6ab6-4a7e-920d-da6caf664e26",
   "metadata": {},
   "source": [
    "## Data Cleaning"
   ]
  },
  {
   "cell_type": "code",
   "execution_count": 594,
   "id": "676a5e9d-df29-45ae-a201-7b0b0664d9dc",
   "metadata": {
    "scrolled": true
   },
   "outputs": [
    {
     "data": {
      "text/html": [
       "<div>\n",
       "<style scoped>\n",
       "    .dataframe tbody tr th:only-of-type {\n",
       "        vertical-align: middle;\n",
       "    }\n",
       "\n",
       "    .dataframe tbody tr th {\n",
       "        vertical-align: top;\n",
       "    }\n",
       "\n",
       "    .dataframe thead th {\n",
       "        text-align: right;\n",
       "    }\n",
       "</style>\n",
       "<table border=\"1\" class=\"dataframe\">\n",
       "  <thead>\n",
       "    <tr style=\"text-align: right;\">\n",
       "      <th></th>\n",
       "      <th>rank</th>\n",
       "      <th>channel_type</th>\n",
       "      <th>uploads</th>\n",
       "      <th>video views</th>\n",
       "      <th>subscribers</th>\n",
       "      <th>highest_yearly_earnings</th>\n",
       "    </tr>\n",
       "  </thead>\n",
       "  <tbody>\n",
       "    <tr>\n",
       "      <th>1</th>\n",
       "      <td>2</td>\n",
       "      <td>Games</td>\n",
       "      <td>1</td>\n",
       "      <td>0.000000</td>\n",
       "      <td>170.0</td>\n",
       "      <td>5.800000e-07</td>\n",
       "    </tr>\n",
       "    <tr>\n",
       "      <th>2</th>\n",
       "      <td>3</td>\n",
       "      <td>Entertainment</td>\n",
       "      <td>741</td>\n",
       "      <td>28368.841870</td>\n",
       "      <td>166.0</td>\n",
       "      <td>6.470000e+01</td>\n",
       "    </tr>\n",
       "    <tr>\n",
       "      <th>3</th>\n",
       "      <td>4</td>\n",
       "      <td>Education</td>\n",
       "      <td>966</td>\n",
       "      <td>164000.000000</td>\n",
       "      <td>162.0</td>\n",
       "      <td>9.480000e+01</td>\n",
       "    </tr>\n",
       "    <tr>\n",
       "      <th>6</th>\n",
       "      <td>7</td>\n",
       "      <td>Entertainment</td>\n",
       "      <td>1111</td>\n",
       "      <td>93247.040539</td>\n",
       "      <td>112.0</td>\n",
       "      <td>3.510000e+01</td>\n",
       "    </tr>\n",
       "    <tr>\n",
       "      <th>9</th>\n",
       "      <td>10</td>\n",
       "      <td>Entertainment</td>\n",
       "      <td>574</td>\n",
       "      <td>77180.169894</td>\n",
       "      <td>98.9</td>\n",
       "      <td>2.790000e+01</td>\n",
       "    </tr>\n",
       "    <tr>\n",
       "      <th>...</th>\n",
       "      <td>...</td>\n",
       "      <td>...</td>\n",
       "      <td>...</td>\n",
       "      <td>...</td>\n",
       "      <td>...</td>\n",
       "      <td>...</td>\n",
       "    </tr>\n",
       "    <tr>\n",
       "      <th>973</th>\n",
       "      <td>974</td>\n",
       "      <td>Entertainment</td>\n",
       "      <td>690</td>\n",
       "      <td>2394.143260</td>\n",
       "      <td>12.4</td>\n",
       "      <td>1.300000e-03</td>\n",
       "    </tr>\n",
       "    <tr>\n",
       "      <th>983</th>\n",
       "      <td>984</td>\n",
       "      <td>People</td>\n",
       "      <td>0</td>\n",
       "      <td>16086.808918</td>\n",
       "      <td>12.4</td>\n",
       "      <td>0.000000e+00</td>\n",
       "    </tr>\n",
       "    <tr>\n",
       "      <th>987</th>\n",
       "      <td>988</td>\n",
       "      <td>Music</td>\n",
       "      <td>205</td>\n",
       "      <td>6202.090191</td>\n",
       "      <td>12.4</td>\n",
       "      <td>2.400000e+00</td>\n",
       "    </tr>\n",
       "    <tr>\n",
       "      <th>988</th>\n",
       "      <td>989</td>\n",
       "      <td>Games</td>\n",
       "      <td>1340</td>\n",
       "      <td>4779.139505</td>\n",
       "      <td>12.4</td>\n",
       "      <td>8.500000e+00</td>\n",
       "    </tr>\n",
       "    <tr>\n",
       "      <th>989</th>\n",
       "      <td>990</td>\n",
       "      <td>Entertainment</td>\n",
       "      <td>99</td>\n",
       "      <td>6993.406259</td>\n",
       "      <td>12.4</td>\n",
       "      <td>2.400000e+00</td>\n",
       "    </tr>\n",
       "  </tbody>\n",
       "</table>\n",
       "<p>313 rows × 6 columns</p>\n",
       "</div>"
      ],
      "text/plain": [
       "     rank   channel_type  uploads    video views  subscribers  \\\n",
       "1       2          Games        1       0.000000        170.0   \n",
       "2       3  Entertainment      741   28368.841870        166.0   \n",
       "3       4      Education      966  164000.000000        162.0   \n",
       "6       7  Entertainment     1111   93247.040539        112.0   \n",
       "9      10  Entertainment      574   77180.169894         98.9   \n",
       "..    ...            ...      ...            ...          ...   \n",
       "973   974  Entertainment      690    2394.143260         12.4   \n",
       "983   984         People        0   16086.808918         12.4   \n",
       "987   988          Music      205    6202.090191         12.4   \n",
       "988   989          Games     1340    4779.139505         12.4   \n",
       "989   990  Entertainment       99    6993.406259         12.4   \n",
       "\n",
       "     highest_yearly_earnings  \n",
       "1               5.800000e-07  \n",
       "2               6.470000e+01  \n",
       "3               9.480000e+01  \n",
       "6               3.510000e+01  \n",
       "9               2.790000e+01  \n",
       "..                       ...  \n",
       "973             1.300000e-03  \n",
       "983             0.000000e+00  \n",
       "987             2.400000e+00  \n",
       "988             8.500000e+00  \n",
       "989             2.400000e+00  \n",
       "\n",
       "[313 rows x 6 columns]"
      ]
     },
     "execution_count": 594,
     "metadata": {},
     "output_type": "execute_result"
    }
   ],
   "source": [
    "#Subsets the data to the six variables I plan on using\n",
    "df = YoutubeData[['Country', 'rank', 'channel_type', 'uploads', 'video views', 'subscribers', 'highest_yearly_earnings']]\n",
    "#Filters to only US accounts\n",
    "df = df[df['Country'] == 'United States']\n",
    "#With only US-based accounts, we can remove the Country variable\n",
    "df = df.drop(columns=['Country'])\n",
    "#Scale down the subscribers by dividing by 1,000,000 so value are in the millions\n",
    "df['subscribers']=(df['subscribers']/1000000)\n",
    "df['video views']=(df['video views']/1000000)\n",
    "df['highest_yearly_earnings']=(df['highest_yearly_earnings']/1000000)\n",
    "#View the cleaned dataset\n",
    "df"
   ]
  },
  {
   "cell_type": "code",
   "execution_count": 595,
   "id": "63d632af-7c57-40f7-8298-6bab55d534a3",
   "metadata": {},
   "outputs": [
    {
     "data": {
      "text/html": [
       "<div>\n",
       "<style scoped>\n",
       "    .dataframe tbody tr th:only-of-type {\n",
       "        vertical-align: middle;\n",
       "    }\n",
       "\n",
       "    .dataframe tbody tr th {\n",
       "        vertical-align: top;\n",
       "    }\n",
       "\n",
       "    .dataframe thead th {\n",
       "        text-align: right;\n",
       "    }\n",
       "</style>\n",
       "<table border=\"1\" class=\"dataframe\">\n",
       "  <thead>\n",
       "    <tr style=\"text-align: right;\">\n",
       "      <th></th>\n",
       "      <th>Variable Name</th>\n",
       "      <th>Description</th>\n",
       "      <th>Type</th>\n",
       "    </tr>\n",
       "  </thead>\n",
       "  <tbody>\n",
       "    <tr>\n",
       "      <th>0</th>\n",
       "      <td>rank</td>\n",
       "      <td>Global Youtube Rank</td>\n",
       "      <td>Categorical</td>\n",
       "    </tr>\n",
       "    <tr>\n",
       "      <th>1</th>\n",
       "      <td>channel_type</td>\n",
       "      <td>Type of Channel</td>\n",
       "      <td>Categorical</td>\n",
       "    </tr>\n",
       "    <tr>\n",
       "      <th>2</th>\n",
       "      <td>uploads</td>\n",
       "      <td>Number of Total Video Uploads</td>\n",
       "      <td>Continuous</td>\n",
       "    </tr>\n",
       "    <tr>\n",
       "      <th>3</th>\n",
       "      <td>video views</td>\n",
       "      <td>Number of Total Video Views</td>\n",
       "      <td>Continuous</td>\n",
       "    </tr>\n",
       "    <tr>\n",
       "      <th>4</th>\n",
       "      <td>subscribers</td>\n",
       "      <td>Number of Total Subscribers</td>\n",
       "      <td>Continuous</td>\n",
       "    </tr>\n",
       "    <tr>\n",
       "      <th>5</th>\n",
       "      <td>highest_yearly_earnings</td>\n",
       "      <td>Highest yearly earning</td>\n",
       "      <td>Continuous</td>\n",
       "    </tr>\n",
       "  </tbody>\n",
       "</table>\n",
       "</div>"
      ],
      "text/plain": [
       "             Variable Name                    Description         Type\n",
       "0                     rank            Global Youtube Rank  Categorical\n",
       "1             channel_type                Type of Channel  Categorical\n",
       "2                  uploads  Number of Total Video Uploads   Continuous\n",
       "3              video views    Number of Total Video Views   Continuous\n",
       "4              subscribers    Number of Total Subscribers   Continuous\n",
       "5  highest_yearly_earnings         Highest yearly earning   Continuous"
      ]
     },
     "execution_count": 595,
     "metadata": {},
     "output_type": "execute_result"
    }
   ],
   "source": [
    "VDetails = {'Variable Name': ['rank', 'channel_type', 'uploads', 'video views', 'subscribers', 'highest_yearly_earnings'],\n",
    "        'Description': ['Global Youtube Rank', 'Type of Channel', 'Number of Total Video Uploads', 'Number of Total Video Views', 'Number of Total Subscribers', 'Highest yearly earning'],\n",
    "        'Type': ['Categorical', 'Categorical', 'Continuous', 'Continuous', 'Continuous', 'Continuous']}\n",
    "frame = pd.DataFrame(VDetails)\n",
    "frame"
   ]
  },
  {
   "cell_type": "markdown",
   "id": "a815b046-6853-4408-9b49-d94e7bc10ebd",
   "metadata": {},
   "source": [
    "## Outlier Detection and Treatment"
   ]
  },
  {
   "cell_type": "code",
   "execution_count": 597,
   "id": "52647b2a-72fb-45c2-b318-932307235e6c",
   "metadata": {},
   "outputs": [
    {
     "name": "stdout",
     "output_type": "stream",
     "text": [
      "\n",
      "Number of outliers in uploads: 5\n"
     ]
    }
   ],
   "source": [
    "# Z-score method for outliers\n",
    "from scipy import stats\n",
    "z_scoresU = stats.zscore(df['uploads'])\n",
    "outliersU = abs(z_scoresU) > 3\n",
    "print(\"\\nNumber of outliers in uploads:\", outliersU.sum())"
   ]
  },
  {
   "cell_type": "code",
   "execution_count": 598,
   "id": "8b87058b-4bc3-487b-8844-a64ad4473f6b",
   "metadata": {},
   "outputs": [
    {
     "data": {
      "text/html": [
       "<div>\n",
       "<style scoped>\n",
       "    .dataframe tbody tr th:only-of-type {\n",
       "        vertical-align: middle;\n",
       "    }\n",
       "\n",
       "    .dataframe tbody tr th {\n",
       "        vertical-align: top;\n",
       "    }\n",
       "\n",
       "    .dataframe thead th {\n",
       "        text-align: right;\n",
       "    }\n",
       "</style>\n",
       "<table border=\"1\" class=\"dataframe\">\n",
       "  <thead>\n",
       "    <tr style=\"text-align: right;\">\n",
       "      <th></th>\n",
       "      <th>rank</th>\n",
       "      <th>channel_type</th>\n",
       "      <th>uploads</th>\n",
       "      <th>video views</th>\n",
       "      <th>subscribers</th>\n",
       "      <th>highest_yearly_earnings</th>\n",
       "    </tr>\n",
       "  </thead>\n",
       "  <tbody>\n",
       "    <tr>\n",
       "      <th>11</th>\n",
       "      <td>12</td>\n",
       "      <td>Sports</td>\n",
       "      <td>70127</td>\n",
       "      <td>77428.473662</td>\n",
       "      <td>96.0</td>\n",
       "      <td>34.3</td>\n",
       "    </tr>\n",
       "    <tr>\n",
       "      <th>84</th>\n",
       "      <td>85</td>\n",
       "      <td>Nonprofit</td>\n",
       "      <td>200933</td>\n",
       "      <td>7339.333120</td>\n",
       "      <td>38.6</td>\n",
       "      <td>2.2</td>\n",
       "    </tr>\n",
       "    <tr>\n",
       "      <th>514</th>\n",
       "      <td>515</td>\n",
       "      <td>Games</td>\n",
       "      <td>156215</td>\n",
       "      <td>16107.116549</td>\n",
       "      <td>17.5</td>\n",
       "      <td>4.7</td>\n",
       "    </tr>\n",
       "    <tr>\n",
       "      <th>658</th>\n",
       "      <td>659</td>\n",
       "      <td>News</td>\n",
       "      <td>160405</td>\n",
       "      <td>14198.154095</td>\n",
       "      <td>15.2</td>\n",
       "      <td>9.0</td>\n",
       "    </tr>\n",
       "    <tr>\n",
       "      <th>723</th>\n",
       "      <td>724</td>\n",
       "      <td>News</td>\n",
       "      <td>80830</td>\n",
       "      <td>12961.669452</td>\n",
       "      <td>14.7</td>\n",
       "      <td>8.9</td>\n",
       "    </tr>\n",
       "  </tbody>\n",
       "</table>\n",
       "</div>"
      ],
      "text/plain": [
       "     rank channel_type  uploads   video views  subscribers  \\\n",
       "11     12       Sports    70127  77428.473662         96.0   \n",
       "84     85    Nonprofit   200933   7339.333120         38.6   \n",
       "514   515        Games   156215  16107.116549         17.5   \n",
       "658   659         News   160405  14198.154095         15.2   \n",
       "723   724         News    80830  12961.669452         14.7   \n",
       "\n",
       "     highest_yearly_earnings  \n",
       "11                      34.3  \n",
       "84                       2.2  \n",
       "514                      4.7  \n",
       "658                      9.0  \n",
       "723                      8.9  "
      ]
     },
     "execution_count": 598,
     "metadata": {},
     "output_type": "execute_result"
    }
   ],
   "source": [
    "df[outliersU]"
   ]
  },
  {
   "cell_type": "code",
   "execution_count": 599,
   "id": "7d30cf96-324d-4426-83e3-7d7bea530fe5",
   "metadata": {},
   "outputs": [
    {
     "name": "stdout",
     "output_type": "stream",
     "text": [
      "\n",
      "Number of outliers in video views: 6\n"
     ]
    }
   ],
   "source": [
    "z_scoresVV = stats.zscore(df['video views'])\n",
    "outliersVV = abs(z_scoresVV) > 3\n",
    "print(\"\\nNumber of outliers in video views:\", outliersVV.sum())"
   ]
  },
  {
   "cell_type": "code",
   "execution_count": 600,
   "id": "ce99e25d-749b-4db4-b18f-3c110a00f136",
   "metadata": {},
   "outputs": [
    {
     "data": {
      "text/html": [
       "<div>\n",
       "<style scoped>\n",
       "    .dataframe tbody tr th:only-of-type {\n",
       "        vertical-align: middle;\n",
       "    }\n",
       "\n",
       "    .dataframe tbody tr th {\n",
       "        vertical-align: top;\n",
       "    }\n",
       "\n",
       "    .dataframe thead th {\n",
       "        text-align: right;\n",
       "    }\n",
       "</style>\n",
       "<table border=\"1\" class=\"dataframe\">\n",
       "  <thead>\n",
       "    <tr style=\"text-align: right;\">\n",
       "      <th></th>\n",
       "      <th>rank</th>\n",
       "      <th>channel_type</th>\n",
       "      <th>uploads</th>\n",
       "      <th>video views</th>\n",
       "      <th>subscribers</th>\n",
       "      <th>highest_yearly_earnings</th>\n",
       "    </tr>\n",
       "  </thead>\n",
       "  <tbody>\n",
       "    <tr>\n",
       "      <th>3</th>\n",
       "      <td>4</td>\n",
       "      <td>Education</td>\n",
       "      <td>966</td>\n",
       "      <td>164000.000000</td>\n",
       "      <td>162.0</td>\n",
       "      <td>94.8</td>\n",
       "    </tr>\n",
       "    <tr>\n",
       "      <th>6</th>\n",
       "      <td>7</td>\n",
       "      <td>Entertainment</td>\n",
       "      <td>1111</td>\n",
       "      <td>93247.040539</td>\n",
       "      <td>112.0</td>\n",
       "      <td>35.1</td>\n",
       "    </tr>\n",
       "    <tr>\n",
       "      <th>9</th>\n",
       "      <td>10</td>\n",
       "      <td>Entertainment</td>\n",
       "      <td>574</td>\n",
       "      <td>77180.169894</td>\n",
       "      <td>98.9</td>\n",
       "      <td>27.9</td>\n",
       "    </tr>\n",
       "    <tr>\n",
       "      <th>11</th>\n",
       "      <td>12</td>\n",
       "      <td>Sports</td>\n",
       "      <td>70127</td>\n",
       "      <td>77428.473662</td>\n",
       "      <td>96.0</td>\n",
       "      <td>34.3</td>\n",
       "    </tr>\n",
       "    <tr>\n",
       "      <th>29</th>\n",
       "      <td>30</td>\n",
       "      <td>Film</td>\n",
       "      <td>39113</td>\n",
       "      <td>59316.472754</td>\n",
       "      <td>59.5</td>\n",
       "      <td>5.5</td>\n",
       "    </tr>\n",
       "    <tr>\n",
       "      <th>111</th>\n",
       "      <td>112</td>\n",
       "      <td>Entertainment</td>\n",
       "      <td>2453</td>\n",
       "      <td>55299.840198</td>\n",
       "      <td>35.2</td>\n",
       "      <td>11.5</td>\n",
       "    </tr>\n",
       "  </tbody>\n",
       "</table>\n",
       "</div>"
      ],
      "text/plain": [
       "     rank   channel_type  uploads    video views  subscribers  \\\n",
       "3       4      Education      966  164000.000000        162.0   \n",
       "6       7  Entertainment     1111   93247.040539        112.0   \n",
       "9      10  Entertainment      574   77180.169894         98.9   \n",
       "11     12         Sports    70127   77428.473662         96.0   \n",
       "29     30           Film    39113   59316.472754         59.5   \n",
       "111   112  Entertainment     2453   55299.840198         35.2   \n",
       "\n",
       "     highest_yearly_earnings  \n",
       "3                       94.8  \n",
       "6                       35.1  \n",
       "9                       27.9  \n",
       "11                      34.3  \n",
       "29                       5.5  \n",
       "111                     11.5  "
      ]
     },
     "execution_count": 600,
     "metadata": {},
     "output_type": "execute_result"
    }
   ],
   "source": [
    "df[outliersVV]"
   ]
  },
  {
   "cell_type": "code",
   "execution_count": 601,
   "id": "50779588-6c75-488d-aa62-24b1248134e0",
   "metadata": {},
   "outputs": [
    {
     "name": "stdout",
     "output_type": "stream",
     "text": [
      "\n",
      "Number of outliers in subscribers: 6\n"
     ]
    }
   ],
   "source": [
    "z_scoresS = stats.zscore(df['subscribers'])\n",
    "outliersS = abs(z_scoresS) > 3\n",
    "print(\"\\nNumber of outliers in subscribers:\", outliersS.sum())"
   ]
  },
  {
   "cell_type": "code",
   "execution_count": 602,
   "id": "184e5f11-2aa2-4d75-83ea-8a08f1976b34",
   "metadata": {},
   "outputs": [
    {
     "data": {
      "text/html": [
       "<div>\n",
       "<style scoped>\n",
       "    .dataframe tbody tr th:only-of-type {\n",
       "        vertical-align: middle;\n",
       "    }\n",
       "\n",
       "    .dataframe tbody tr th {\n",
       "        vertical-align: top;\n",
       "    }\n",
       "\n",
       "    .dataframe thead th {\n",
       "        text-align: right;\n",
       "    }\n",
       "</style>\n",
       "<table border=\"1\" class=\"dataframe\">\n",
       "  <thead>\n",
       "    <tr style=\"text-align: right;\">\n",
       "      <th></th>\n",
       "      <th>rank</th>\n",
       "      <th>channel_type</th>\n",
       "      <th>uploads</th>\n",
       "      <th>video views</th>\n",
       "      <th>subscribers</th>\n",
       "      <th>highest_yearly_earnings</th>\n",
       "    </tr>\n",
       "  </thead>\n",
       "  <tbody>\n",
       "    <tr>\n",
       "      <th>1</th>\n",
       "      <td>2</td>\n",
       "      <td>Games</td>\n",
       "      <td>1</td>\n",
       "      <td>0.000000</td>\n",
       "      <td>170.0</td>\n",
       "      <td>5.800000e-07</td>\n",
       "    </tr>\n",
       "    <tr>\n",
       "      <th>2</th>\n",
       "      <td>3</td>\n",
       "      <td>Entertainment</td>\n",
       "      <td>741</td>\n",
       "      <td>28368.841870</td>\n",
       "      <td>166.0</td>\n",
       "      <td>6.470000e+01</td>\n",
       "    </tr>\n",
       "    <tr>\n",
       "      <th>3</th>\n",
       "      <td>4</td>\n",
       "      <td>Education</td>\n",
       "      <td>966</td>\n",
       "      <td>164000.000000</td>\n",
       "      <td>162.0</td>\n",
       "      <td>9.480000e+01</td>\n",
       "    </tr>\n",
       "    <tr>\n",
       "      <th>6</th>\n",
       "      <td>7</td>\n",
       "      <td>Entertainment</td>\n",
       "      <td>1111</td>\n",
       "      <td>93247.040539</td>\n",
       "      <td>112.0</td>\n",
       "      <td>3.510000e+01</td>\n",
       "    </tr>\n",
       "    <tr>\n",
       "      <th>9</th>\n",
       "      <td>10</td>\n",
       "      <td>Entertainment</td>\n",
       "      <td>574</td>\n",
       "      <td>77180.169894</td>\n",
       "      <td>98.9</td>\n",
       "      <td>2.790000e+01</td>\n",
       "    </tr>\n",
       "    <tr>\n",
       "      <th>11</th>\n",
       "      <td>12</td>\n",
       "      <td>Sports</td>\n",
       "      <td>70127</td>\n",
       "      <td>77428.473662</td>\n",
       "      <td>96.0</td>\n",
       "      <td>3.430000e+01</td>\n",
       "    </tr>\n",
       "  </tbody>\n",
       "</table>\n",
       "</div>"
      ],
      "text/plain": [
       "    rank   channel_type  uploads    video views  subscribers  \\\n",
       "1      2          Games        1       0.000000        170.0   \n",
       "2      3  Entertainment      741   28368.841870        166.0   \n",
       "3      4      Education      966  164000.000000        162.0   \n",
       "6      7  Entertainment     1111   93247.040539        112.0   \n",
       "9     10  Entertainment      574   77180.169894         98.9   \n",
       "11    12         Sports    70127   77428.473662         96.0   \n",
       "\n",
       "    highest_yearly_earnings  \n",
       "1              5.800000e-07  \n",
       "2              6.470000e+01  \n",
       "3              9.480000e+01  \n",
       "6              3.510000e+01  \n",
       "9              2.790000e+01  \n",
       "11             3.430000e+01  "
      ]
     },
     "execution_count": 602,
     "metadata": {},
     "output_type": "execute_result"
    }
   ],
   "source": [
    "df[outliersS]"
   ]
  },
  {
   "cell_type": "code",
   "execution_count": 603,
   "id": "103483ef-d78a-4cf9-bf20-177fd24647bc",
   "metadata": {},
   "outputs": [
    {
     "name": "stdout",
     "output_type": "stream",
     "text": [
      "\n",
      "Number of outliers in highest_yearly_earnings: 7\n"
     ]
    }
   ],
   "source": [
    "z_scoresHYE = stats.zscore(df['highest_yearly_earnings'])\n",
    "outliersHYE = abs(z_scoresHYE) > 3\n",
    "print(\"\\nNumber of outliers in highest_yearly_earnings:\", outliersHYE.sum())"
   ]
  },
  {
   "cell_type": "code",
   "execution_count": 604,
   "id": "9e85e5b1-1348-4b20-bb08-d542a8397a76",
   "metadata": {},
   "outputs": [
    {
     "data": {
      "text/html": [
       "<div>\n",
       "<style scoped>\n",
       "    .dataframe tbody tr th:only-of-type {\n",
       "        vertical-align: middle;\n",
       "    }\n",
       "\n",
       "    .dataframe tbody tr th {\n",
       "        vertical-align: top;\n",
       "    }\n",
       "\n",
       "    .dataframe thead th {\n",
       "        text-align: right;\n",
       "    }\n",
       "</style>\n",
       "<table border=\"1\" class=\"dataframe\">\n",
       "  <thead>\n",
       "    <tr style=\"text-align: right;\">\n",
       "      <th></th>\n",
       "      <th>rank</th>\n",
       "      <th>channel_type</th>\n",
       "      <th>uploads</th>\n",
       "      <th>video views</th>\n",
       "      <th>subscribers</th>\n",
       "      <th>highest_yearly_earnings</th>\n",
       "    </tr>\n",
       "  </thead>\n",
       "  <tbody>\n",
       "    <tr>\n",
       "      <th>2</th>\n",
       "      <td>3</td>\n",
       "      <td>Entertainment</td>\n",
       "      <td>741</td>\n",
       "      <td>28368.841870</td>\n",
       "      <td>166.0</td>\n",
       "      <td>64.7</td>\n",
       "    </tr>\n",
       "    <tr>\n",
       "      <th>3</th>\n",
       "      <td>4</td>\n",
       "      <td>Education</td>\n",
       "      <td>966</td>\n",
       "      <td>164000.000000</td>\n",
       "      <td>162.0</td>\n",
       "      <td>94.8</td>\n",
       "    </tr>\n",
       "    <tr>\n",
       "      <th>211</th>\n",
       "      <td>212</td>\n",
       "      <td>Comedy</td>\n",
       "      <td>865</td>\n",
       "      <td>27006.526665</td>\n",
       "      <td>26.4</td>\n",
       "      <td>50.2</td>\n",
       "    </tr>\n",
       "    <tr>\n",
       "      <th>310</th>\n",
       "      <td>311</td>\n",
       "      <td>People</td>\n",
       "      <td>2321</td>\n",
       "      <td>27084.848152</td>\n",
       "      <td>22.6</td>\n",
       "      <td>56.3</td>\n",
       "    </tr>\n",
       "    <tr>\n",
       "      <th>417</th>\n",
       "      <td>418</td>\n",
       "      <td>Entertainment</td>\n",
       "      <td>214</td>\n",
       "      <td>7906.181776</td>\n",
       "      <td>19.6</td>\n",
       "      <td>110.6</td>\n",
       "    </tr>\n",
       "    <tr>\n",
       "      <th>712</th>\n",
       "      <td>713</td>\n",
       "      <td>People</td>\n",
       "      <td>2222</td>\n",
       "      <td>15788.208522</td>\n",
       "      <td>14.8</td>\n",
       "      <td>57.8</td>\n",
       "    </tr>\n",
       "    <tr>\n",
       "      <th>798</th>\n",
       "      <td>799</td>\n",
       "      <td>Animals</td>\n",
       "      <td>41117</td>\n",
       "      <td>18917.687143</td>\n",
       "      <td>14.0</td>\n",
       "      <td>65.5</td>\n",
       "    </tr>\n",
       "  </tbody>\n",
       "</table>\n",
       "</div>"
      ],
      "text/plain": [
       "     rank   channel_type  uploads    video views  subscribers  \\\n",
       "2       3  Entertainment      741   28368.841870        166.0   \n",
       "3       4      Education      966  164000.000000        162.0   \n",
       "211   212         Comedy      865   27006.526665         26.4   \n",
       "310   311         People     2321   27084.848152         22.6   \n",
       "417   418  Entertainment      214    7906.181776         19.6   \n",
       "712   713         People     2222   15788.208522         14.8   \n",
       "798   799        Animals    41117   18917.687143         14.0   \n",
       "\n",
       "     highest_yearly_earnings  \n",
       "2                       64.7  \n",
       "3                       94.8  \n",
       "211                     50.2  \n",
       "310                     56.3  \n",
       "417                    110.6  \n",
       "712                     57.8  \n",
       "798                     65.5  "
      ]
     },
     "execution_count": 604,
     "metadata": {},
     "output_type": "execute_result"
    }
   ],
   "source": [
    "df[outliersHYE]"
   ]
  },
  {
   "cell_type": "markdown",
   "id": "8fb75dc5-ed84-45b0-910a-51e57595a1f6",
   "metadata": {},
   "source": [
    "#### We decided to remove the all outliers for the number of uploads, but only the outliers for yearly earnings and video views for accounts not in the top 100 rank because these could signify bot behavior and sponsored accounts."
   ]
  },
  {
   "cell_type": "code",
   "execution_count": 606,
   "id": "d9a0dd74-24aa-4257-91cc-d726abb31000",
   "metadata": {},
   "outputs": [
    {
     "data": {
      "text/html": [
       "<div>\n",
       "<style scoped>\n",
       "    .dataframe tbody tr th:only-of-type {\n",
       "        vertical-align: middle;\n",
       "    }\n",
       "\n",
       "    .dataframe tbody tr th {\n",
       "        vertical-align: top;\n",
       "    }\n",
       "\n",
       "    .dataframe thead th {\n",
       "        text-align: right;\n",
       "    }\n",
       "</style>\n",
       "<table border=\"1\" class=\"dataframe\">\n",
       "  <thead>\n",
       "    <tr style=\"text-align: right;\">\n",
       "      <th></th>\n",
       "      <th>rank</th>\n",
       "      <th>channel_type</th>\n",
       "      <th>uploads</th>\n",
       "      <th>video views</th>\n",
       "      <th>subscribers</th>\n",
       "      <th>highest_yearly_earnings</th>\n",
       "    </tr>\n",
       "  </thead>\n",
       "  <tbody>\n",
       "    <tr>\n",
       "      <th>1</th>\n",
       "      <td>2</td>\n",
       "      <td>Games</td>\n",
       "      <td>1</td>\n",
       "      <td>0.000000</td>\n",
       "      <td>170.0</td>\n",
       "      <td>5.800000e-07</td>\n",
       "    </tr>\n",
       "    <tr>\n",
       "      <th>2</th>\n",
       "      <td>3</td>\n",
       "      <td>Entertainment</td>\n",
       "      <td>741</td>\n",
       "      <td>28368.841870</td>\n",
       "      <td>166.0</td>\n",
       "      <td>6.470000e+01</td>\n",
       "    </tr>\n",
       "    <tr>\n",
       "      <th>3</th>\n",
       "      <td>4</td>\n",
       "      <td>Education</td>\n",
       "      <td>966</td>\n",
       "      <td>164000.000000</td>\n",
       "      <td>162.0</td>\n",
       "      <td>9.480000e+01</td>\n",
       "    </tr>\n",
       "    <tr>\n",
       "      <th>6</th>\n",
       "      <td>7</td>\n",
       "      <td>Entertainment</td>\n",
       "      <td>1111</td>\n",
       "      <td>93247.040539</td>\n",
       "      <td>112.0</td>\n",
       "      <td>3.510000e+01</td>\n",
       "    </tr>\n",
       "    <tr>\n",
       "      <th>9</th>\n",
       "      <td>10</td>\n",
       "      <td>Entertainment</td>\n",
       "      <td>574</td>\n",
       "      <td>77180.169894</td>\n",
       "      <td>98.9</td>\n",
       "      <td>2.790000e+01</td>\n",
       "    </tr>\n",
       "    <tr>\n",
       "      <th>...</th>\n",
       "      <td>...</td>\n",
       "      <td>...</td>\n",
       "      <td>...</td>\n",
       "      <td>...</td>\n",
       "      <td>...</td>\n",
       "      <td>...</td>\n",
       "    </tr>\n",
       "    <tr>\n",
       "      <th>973</th>\n",
       "      <td>974</td>\n",
       "      <td>Entertainment</td>\n",
       "      <td>690</td>\n",
       "      <td>2394.143260</td>\n",
       "      <td>12.4</td>\n",
       "      <td>1.300000e-03</td>\n",
       "    </tr>\n",
       "    <tr>\n",
       "      <th>983</th>\n",
       "      <td>984</td>\n",
       "      <td>People</td>\n",
       "      <td>0</td>\n",
       "      <td>16086.808918</td>\n",
       "      <td>12.4</td>\n",
       "      <td>0.000000e+00</td>\n",
       "    </tr>\n",
       "    <tr>\n",
       "      <th>987</th>\n",
       "      <td>988</td>\n",
       "      <td>Music</td>\n",
       "      <td>205</td>\n",
       "      <td>6202.090191</td>\n",
       "      <td>12.4</td>\n",
       "      <td>2.400000e+00</td>\n",
       "    </tr>\n",
       "    <tr>\n",
       "      <th>988</th>\n",
       "      <td>989</td>\n",
       "      <td>Games</td>\n",
       "      <td>1340</td>\n",
       "      <td>4779.139505</td>\n",
       "      <td>12.4</td>\n",
       "      <td>8.500000e+00</td>\n",
       "    </tr>\n",
       "    <tr>\n",
       "      <th>989</th>\n",
       "      <td>990</td>\n",
       "      <td>Entertainment</td>\n",
       "      <td>99</td>\n",
       "      <td>6993.406259</td>\n",
       "      <td>12.4</td>\n",
       "      <td>2.400000e+00</td>\n",
       "    </tr>\n",
       "  </tbody>\n",
       "</table>\n",
       "<p>302 rows × 6 columns</p>\n",
       "</div>"
      ],
      "text/plain": [
       "     rank   channel_type  uploads    video views  subscribers  \\\n",
       "1       2          Games        1       0.000000        170.0   \n",
       "2       3  Entertainment      741   28368.841870        166.0   \n",
       "3       4      Education      966  164000.000000        162.0   \n",
       "6       7  Entertainment     1111   93247.040539        112.0   \n",
       "9      10  Entertainment      574   77180.169894         98.9   \n",
       "..    ...            ...      ...            ...          ...   \n",
       "973   974  Entertainment      690    2394.143260         12.4   \n",
       "983   984         People        0   16086.808918         12.4   \n",
       "987   988          Music      205    6202.090191         12.4   \n",
       "988   989          Games     1340    4779.139505         12.4   \n",
       "989   990  Entertainment       99    6993.406259         12.4   \n",
       "\n",
       "     highest_yearly_earnings  \n",
       "1               5.800000e-07  \n",
       "2               6.470000e+01  \n",
       "3               9.480000e+01  \n",
       "6               3.510000e+01  \n",
       "9               2.790000e+01  \n",
       "..                       ...  \n",
       "973             1.300000e-03  \n",
       "983             0.000000e+00  \n",
       "987             2.400000e+00  \n",
       "988             8.500000e+00  \n",
       "989             2.400000e+00  \n",
       "\n",
       "[302 rows x 6 columns]"
      ]
     },
     "execution_count": 606,
     "metadata": {},
     "output_type": "execute_result"
    }
   ],
   "source": [
    "df = df.drop([11, 84, 514, 658, 723]) #drops Upload outliers\n",
    "df = df.drop([211, 310, 417, 712, 798]) #drops earning outlier for ranks more than 100\n",
    "df = df.drop([111]) #drops video view outlier for ranks more than 100\n",
    "df"
   ]
  },
  {
   "cell_type": "code",
   "execution_count": 607,
   "id": "3c596455-6b76-45d5-bf4a-b269936956cb",
   "metadata": {},
   "outputs": [
    {
     "name": "stdout",
     "output_type": "stream",
     "text": [
      "Dataset Info:\n",
      "<class 'pandas.core.frame.DataFrame'>\n",
      "Index: 302 entries, 1 to 989\n",
      "Data columns (total 6 columns):\n",
      " #   Column                   Non-Null Count  Dtype  \n",
      "---  ------                   --------------  -----  \n",
      " 0   rank                     302 non-null    int64  \n",
      " 1   channel_type             302 non-null    object \n",
      " 2   uploads                  302 non-null    int64  \n",
      " 3   video views              302 non-null    float64\n",
      " 4   subscribers              302 non-null    float64\n",
      " 5   highest_yearly_earnings  302 non-null    float64\n",
      "dtypes: float64(3), int64(2), object(1)\n",
      "memory usage: 16.5+ KB\n"
     ]
    }
   ],
   "source": [
    "print(\"Dataset Info:\")\n",
    "df.info()"
   ]
  },
  {
   "cell_type": "code",
   "execution_count": 608,
   "id": "e1854f6a-9bf2-4884-8e4a-844c2e036969",
   "metadata": {},
   "outputs": [
    {
     "data": {
      "text/plain": [
       "rank                       0\n",
       "channel_type               0\n",
       "uploads                    0\n",
       "video views                0\n",
       "subscribers                0\n",
       "highest_yearly_earnings    0\n",
       "dtype: int64"
      ]
     },
     "execution_count": 608,
     "metadata": {},
     "output_type": "execute_result"
    }
   ],
   "source": [
    "# Checks for missing each\n",
    "df.isnull().sum()"
   ]
  },
  {
   "cell_type": "markdown",
   "id": "4b0b88fd-8d92-4894-80b4-4c535a9ea941",
   "metadata": {},
   "source": [
    "#### There are no missing values."
   ]
  },
  {
   "cell_type": "markdown",
   "id": "a2e1a504-ac34-4b30-ba3c-0c42950610d2",
   "metadata": {},
   "source": [
    "## Descriptive Statistics"
   ]
  },
  {
   "cell_type": "code",
   "execution_count": 611,
   "id": "1969c697-49e9-4f95-8ba8-0ce03d5bbbbb",
   "metadata": {},
   "outputs": [
    {
     "name": "stdout",
     "output_type": "stream",
     "text": [
      "\n",
      "Summary Statistics:\n"
     ]
    },
    {
     "data": {
      "text/html": [
       "<div>\n",
       "<style scoped>\n",
       "    .dataframe tbody tr th:only-of-type {\n",
       "        vertical-align: middle;\n",
       "    }\n",
       "\n",
       "    .dataframe tbody tr th {\n",
       "        vertical-align: top;\n",
       "    }\n",
       "\n",
       "    .dataframe thead th {\n",
       "        text-align: right;\n",
       "    }\n",
       "</style>\n",
       "<table border=\"1\" class=\"dataframe\">\n",
       "  <thead>\n",
       "    <tr style=\"text-align: right;\">\n",
       "      <th></th>\n",
       "      <th>rank</th>\n",
       "      <th>uploads</th>\n",
       "      <th>video views</th>\n",
       "      <th>subscribers</th>\n",
       "      <th>highest_yearly_earnings</th>\n",
       "    </tr>\n",
       "  </thead>\n",
       "  <tbody>\n",
       "    <tr>\n",
       "      <th>count</th>\n",
       "      <td>302.000000</td>\n",
       "      <td>302.000000</td>\n",
       "      <td>302.000000</td>\n",
       "      <td>302.000000</td>\n",
       "      <td>302.000000</td>\n",
       "    </tr>\n",
       "    <tr>\n",
       "      <th>mean</th>\n",
       "      <td>484.917219</td>\n",
       "      <td>1926.844371</td>\n",
       "      <td>11292.231052</td>\n",
       "      <td>23.228146</td>\n",
       "      <td>5.855618</td>\n",
       "    </tr>\n",
       "    <tr>\n",
       "      <th>std</th>\n",
       "      <td>278.232371</td>\n",
       "      <td>4501.472993</td>\n",
       "      <td>13282.302155</td>\n",
       "      <td>18.649788</td>\n",
       "      <td>9.471587</td>\n",
       "    </tr>\n",
       "    <tr>\n",
       "      <th>min</th>\n",
       "      <td>2.000000</td>\n",
       "      <td>0.000000</td>\n",
       "      <td>0.000000</td>\n",
       "      <td>12.400000</td>\n",
       "      <td>0.000000</td>\n",
       "    </tr>\n",
       "    <tr>\n",
       "      <th>25%</th>\n",
       "      <td>261.250000</td>\n",
       "      <td>188.250000</td>\n",
       "      <td>4582.276754</td>\n",
       "      <td>14.700000</td>\n",
       "      <td>0.811175</td>\n",
       "    </tr>\n",
       "    <tr>\n",
       "      <th>50%</th>\n",
       "      <td>467.500000</td>\n",
       "      <td>553.000000</td>\n",
       "      <td>8438.630344</td>\n",
       "      <td>18.300000</td>\n",
       "      <td>2.800000</td>\n",
       "    </tr>\n",
       "    <tr>\n",
       "      <th>75%</th>\n",
       "      <td>721.750000</td>\n",
       "      <td>1640.000000</td>\n",
       "      <td>14220.360387</td>\n",
       "      <td>24.100000</td>\n",
       "      <td>6.875000</td>\n",
       "    </tr>\n",
       "    <tr>\n",
       "      <th>max</th>\n",
       "      <td>990.000000</td>\n",
       "      <td>47926.000000</td>\n",
       "      <td>164000.000000</td>\n",
       "      <td>170.000000</td>\n",
       "      <td>94.800000</td>\n",
       "    </tr>\n",
       "  </tbody>\n",
       "</table>\n",
       "</div>"
      ],
      "text/plain": [
       "             rank       uploads    video views  subscribers  \\\n",
       "count  302.000000    302.000000     302.000000   302.000000   \n",
       "mean   484.917219   1926.844371   11292.231052    23.228146   \n",
       "std    278.232371   4501.472993   13282.302155    18.649788   \n",
       "min      2.000000      0.000000       0.000000    12.400000   \n",
       "25%    261.250000    188.250000    4582.276754    14.700000   \n",
       "50%    467.500000    553.000000    8438.630344    18.300000   \n",
       "75%    721.750000   1640.000000   14220.360387    24.100000   \n",
       "max    990.000000  47926.000000  164000.000000   170.000000   \n",
       "\n",
       "       highest_yearly_earnings  \n",
       "count               302.000000  \n",
       "mean                  5.855618  \n",
       "std                   9.471587  \n",
       "min                   0.000000  \n",
       "25%                   0.811175  \n",
       "50%                   2.800000  \n",
       "75%                   6.875000  \n",
       "max                  94.800000  "
      ]
     },
     "execution_count": 611,
     "metadata": {},
     "output_type": "execute_result"
    }
   ],
   "source": [
    "# Display basic summary statistics\n",
    "print(\"\\nSummary Statistics:\")\n",
    "df.describe()"
   ]
  },
  {
   "cell_type": "code",
   "execution_count": 675,
   "id": "f650ac12-73d9-4deb-910f-b1e7e1c39eb4",
   "metadata": {},
   "outputs": [
    {
     "data": {
      "image/png": "[encoded data removed]",
      "text/plain": [
       "<Figure size 640x480 with 1 Axes>"
      ]
     },
     "metadata": {},
     "output_type": "display_data"
    }
   ],
   "source": [
    "# Histogram\n",
    "sns.histplot(df['uploads'], kde=True)  # kde=True adds Kernel Density Estimate (KDE) curve\n",
    "plt.title(\"Distribution of Number of Uploads\")  # Title\n",
    "plt.xlabel('Number of Uploads')  # x-axis label\n",
    "plt.ylabel('Frequency')  # y-axis label\n",
    "plt.show()"
   ]
  },
  {
   "cell_type": "code",
   "execution_count": 612,
   "id": "7992acd1-5ea0-406c-91e9-f5dd121175ad",
   "metadata": {},
   "outputs": [
    {
     "name": "stdout",
     "output_type": "stream",
     "text": [
      "\n",
      "Value counts in rank:\n"
     ]
    },
    {
     "data": {
      "text/plain": [
       "rank\n",
       "2      1\n",
       "666    1\n",
       "648    1\n",
       "645    1\n",
       "642    1\n",
       "      ..\n",
       "319    1\n",
       "318    1\n",
       "317    1\n",
       "314    1\n",
       "990    1\n",
       "Name: count, Length: 302, dtype: int64"
      ]
     },
     "execution_count": 612,
     "metadata": {},
     "output_type": "execute_result"
    }
   ],
   "source": [
    "# To see frequencies (value counts)\n",
    "print(\"\\nValue counts in rank:\")\n",
    "df['rank'].value_counts()"
   ]
  },
  {
   "cell_type": "code",
   "execution_count": 613,
   "id": "d62fdd86-f02a-47e3-a815-59cea42bd9fb",
   "metadata": {},
   "outputs": [
    {
     "name": "stdout",
     "output_type": "stream",
     "text": [
      "\n",
      "Value counts in channel_type:\n"
     ]
    },
    {
     "data": {
      "text/plain": [
       "channel_type\n",
       "Entertainment    106\n",
       "Music             81\n",
       "Games             25\n",
       "People            22\n",
       "Education         18\n",
       "Comedy            15\n",
       "Howto             12\n",
       "Film              11\n",
       "Sports             5\n",
       "Tech               4\n",
       "Animals            2\n",
       "News               1\n",
       "Name: count, dtype: int64"
      ]
     },
     "execution_count": 613,
     "metadata": {},
     "output_type": "execute_result"
    }
   ],
   "source": [
    "# To see frequencies (value counts)\n",
    "print(\"\\nValue counts in channel_type:\")\n",
    "df['channel_type'].value_counts()"
   ]
  },
  {
   "cell_type": "code",
   "execution_count": 614,
   "id": "be2a7696-e71d-48f9-a4cd-884567d22c85",
   "metadata": {},
   "outputs": [
    {
     "data": {
      "text/plain": [
       "Text(0.5, 1.0, 'Distribution of Channel Types')"
      ]
     },
     "execution_count": 614,
     "metadata": {},
     "output_type": "execute_result"
    },
    {
     "data": {
      "image/png": "[encoded data removed]",
      "text/plain": [
       "<Figure size 640x480 with 1 Axes>"
      ]
     },
     "metadata": {},
     "output_type": "display_data"
    }
   ],
   "source": [
    "# Pie Chart\n",
    "counts = df['channel_type'].value_counts()\n",
    "plt.pie(counts, labels=counts.index, autopct='%1.1f%%')\n",
    "plt.title('Distribution of Channel Types')"
   ]
  },
  {
   "cell_type": "code",
   "execution_count": 615,
   "id": "1eeb7b6b-e62f-4ac9-a771-748c27558da3",
   "metadata": {},
   "outputs": [
    {
     "data": {
      "image/png": "[encoded data removed]",
      "text/plain": [
       "<Figure size 640x480 with 1 Axes>"
      ]
     },
     "metadata": {},
     "output_type": "display_data"
    }
   ],
   "source": [
    "# Boxplot\n",
    "sns.boxplot(x='channel_type', y='video views', data=df)  # Compare the distribution across groups\n",
    "plt.title(\"Boxplot of Video Views by Channel Type\")  # Title\n",
    "plt.xlabel('Channel Type')  # x-axis label\n",
    "plt.ylabel('Video Views (in Millions)')  # y-axis label\n",
    "plt.xticks(rotation=90)\n",
    "plt.show()"
   ]
  },
  {
   "cell_type": "markdown",
   "id": "214e4299-c358-4ff7-bf9f-f21a939025db",
   "metadata": {},
   "source": [
    "## Variable Correlation Analysis"
   ]
  },
  {
   "cell_type": "code",
   "execution_count": 617,
   "id": "51916123-b154-4c1c-9a4d-7f9e9809f7d0",
   "metadata": {},
   "outputs": [
    {
     "name": "stdout",
     "output_type": "stream",
     "text": [
      "Correlation Matrix:\n",
      "                             rank   uploads  video views  subscribers  \\\n",
      "rank                     1.000000 -0.068746    -0.432728    -0.603115   \n",
      "uploads                 -0.068746  1.000000     0.133235     0.019217   \n",
      "video views             -0.432728  0.133235     1.000000     0.645519   \n",
      "subscribers             -0.603115  0.019217     0.645519     1.000000   \n",
      "highest_yearly_earnings -0.297114  0.002035     0.684708     0.557944   \n",
      "\n",
      "                         highest_yearly_earnings  \n",
      "rank                                   -0.297114  \n",
      "uploads                                 0.002035  \n",
      "video views                             0.684708  \n",
      "subscribers                             0.557944  \n",
      "highest_yearly_earnings                 1.000000  \n"
     ]
    }
   ],
   "source": [
    "# Calculate correlation matrix for only numerical variables\n",
    "correlation = df.drop(columns=['channel_type']).corr()\n",
    "print(\"Correlation Matrix:\")\n",
    "print(correlation)"
   ]
  },
  {
   "cell_type": "code",
   "execution_count": 618,
   "id": "991ecd6d-e3e9-462b-a89b-44e0fdf4d071",
   "metadata": {},
   "outputs": [
    {
     "name": "stdout",
     "output_type": "stream",
     "text": [
      "\n",
      "Highly correlated variables (>0.9):\n",
      "                          rank  uploads  video views  subscribers  \\\n",
      "rank                      True    False        False        False   \n",
      "uploads                  False     True        False        False   \n",
      "video views              False    False         True        False   \n",
      "subscribers              False    False        False         True   \n",
      "highest_yearly_earnings  False    False        False        False   \n",
      "\n",
      "                         highest_yearly_earnings  \n",
      "rank                                       False  \n",
      "uploads                                    False  \n",
      "video views                                False  \n",
      "subscribers                                False  \n",
      "highest_yearly_earnings                     True  \n"
     ]
    }
   ],
   "source": [
    "# Find highly correlated pairs\n",
    "threshold = 0.9\n",
    "high_correlation = correlation > threshold\n",
    "print(\"\\nHighly correlated variables (>0.9):\")\n",
    "print(high_correlation)"
   ]
  },
  {
   "cell_type": "markdown",
   "id": "31856aa2-4124-4d2a-a404-894125d5b78b",
   "metadata": {},
   "source": [
    "#### There are no highly correlated values."
   ]
  },
  {
   "cell_type": "markdown",
   "id": "a4205625-a9fb-4fb8-b27f-be5e35cdfbc7",
   "metadata": {},
   "source": [
    "## Inferential Statistics"
   ]
  },
  {
   "cell_type": "markdown",
   "id": "b26a86e5-a811-45c6-9813-947daa1bfc03",
   "metadata": {},
   "source": [
    "#### ANOVA tests compare uploads, video views, subscribers, highest yearly earning across channel types"
   ]
  },
  {
   "cell_type": "code",
   "execution_count": 622,
   "id": "d2d0a216-2e8f-4315-a6fb-d3759b0f574c",
   "metadata": {},
   "outputs": [
    {
     "data": {
      "text/plain": [
       "F_onewayResult(statistic=4.481946657672052, pvalue=1.926208933600353e-126)"
      ]
     },
     "execution_count": 622,
     "metadata": {},
     "output_type": "execute_result"
    }
   ],
   "source": [
    "# ANOVA: Compare uploads across channel types\n",
    "from scipy import stats\n",
    "uploadsByChannelT = [df[df['channel_type'] == city]['uploads'] for city in df['channel_type']]\n",
    "uploads_anova = stats.f_oneway(*uploadsByChannelT)\n",
    "uploads_anova"
   ]
  },
  {
   "cell_type": "code",
   "execution_count": 623,
   "id": "327b3801-338e-4424-9c2f-9e9e3016b35c",
   "metadata": {},
   "outputs": [
    {
     "data": {
      "text/plain": [
       "F_onewayResult(statistic=2.498538774915088, pvalue=2.250839110729613e-39)"
      ]
     },
     "execution_count": 623,
     "metadata": {},
     "output_type": "execute_result"
    }
   ],
   "source": [
    "# ANOVA: Compare video views across channel types\n",
    "from scipy import stats\n",
    "viewsByChannelT = [df[df['channel_type'] == city]['video views'] for city in df['channel_type']]\n",
    "views_anova = stats.f_oneway(*viewsByChannelT)\n",
    "views_anova"
   ]
  },
  {
   "cell_type": "code",
   "execution_count": 624,
   "id": "35f84646-5a24-4aa4-b3e7-a593c3850c75",
   "metadata": {},
   "outputs": [
    {
     "data": {
      "text/plain": [
       "F_onewayResult(statistic=0.7073934512167027, pvalue=0.9999630399269385)"
      ]
     },
     "execution_count": 624,
     "metadata": {},
     "output_type": "execute_result"
    }
   ],
   "source": [
    "# ANOVA: Compare subscribers across channel types\n",
    "from scipy import stats\n",
    "subscribersByChannelT = [df[df['channel_type'] == city]['subscribers'] for city in df['channel_type']]\n",
    "subscribers_anova = stats.f_oneway(*subscribersByChannelT)\n",
    "subscribers_anova"
   ]
  },
  {
   "cell_type": "code",
   "execution_count": 625,
   "id": "aa78bb14-6c97-466c-b18d-00adb6f5db08",
   "metadata": {},
   "outputs": [
    {
     "data": {
      "text/plain": [
       "F_onewayResult(statistic=0.8532771423177326, pvalue=0.9683020120138539)"
      ]
     },
     "execution_count": 625,
     "metadata": {},
     "output_type": "execute_result"
    }
   ],
   "source": [
    "# ANOVA: Compare highest yearly earning across channel types\n",
    "from scipy import stats\n",
    "earningsByChannelT = [df[df['channel_type'] == city]['highest_yearly_earnings'] for city in df['channel_type']]\n",
    "earnings_anova = stats.f_oneway(*earningsByChannelT)\n",
    "earnings_anova"
   ]
  },
  {
   "cell_type": "markdown",
   "id": "63d259e2-fe0d-4589-b658-3871faaf5091",
   "metadata": {},
   "source": [
    "#### The results of the ANOVA test show that no p-value had less than 0.05 for four variables, indicating that we do not have enough statitscal evidence to reject the null that there is no difference between the channel types and uploads, video views,  subscribers, highest yearly earnings."
   ]
  },
  {
   "cell_type": "code",
   "execution_count": 627,
   "id": "bd2a820c-1416-4a48-b059-380d00536dda",
   "metadata": {},
   "outputs": [
    {
     "data": {
      "image/png": "[encoded data removed]",
      "text/plain": [
       "<Figure size 640x480 with 1 Axes>"
      ]
     },
     "metadata": {},
     "output_type": "display_data"
    }
   ],
   "source": [
    "# Bar Plot\n",
    "sns.barplot(data=df, x='channel_type', y='highest_yearly_earnings')\n",
    "plt.title(\"Barplot of Highest Yearly Earnings by Channel Type\")  # Title\n",
    "plt.xlabel('Channel Type')  # x-axis label\n",
    "plt.ylabel('Highest Yearly Earnings (in Millions)')  # y-axis label\n",
    "plt.xticks(rotation=90)\n",
    "plt.show()"
   ]
  },
  {
   "cell_type": "code",
   "execution_count": 628,
   "id": "30c1259d-0bee-4750-a7d2-49f06b52c1a8",
   "metadata": {},
   "outputs": [
    {
     "name": "stdout",
     "output_type": "stream",
     "text": [
      "\n",
      "Multiple Linear Regression Results:\n",
      "                            OLS Regression Results                            \n",
      "==============================================================================\n",
      "Dep. Variable:                   rank   R-squared:                       0.376\n",
      "Model:                            OLS   Adj. R-squared:                  0.368\n",
      "Method:                 Least Squares   F-statistic:                     44.83\n",
      "Date:                Mon, 12 May 2025   Prob (F-statistic):           1.95e-29\n",
      "Time:                        13:06:01   Log-Likelihood:                -2056.5\n",
      "No. Observations:                 302   AIC:                             4123.\n",
      "Df Residuals:                     297   BIC:                             4142.\n",
      "Df Model:                           4                                         \n",
      "Covariance Type:            nonrobust                                         \n",
      "===========================================================================================\n",
      "                              coef    std err          t      P>|t|      [0.025      0.975]\n",
      "-------------------------------------------------------------------------------------------\n",
      "const                     702.6726     21.031     33.411      0.000     661.284     744.062\n",
      "uploads                    -0.0025      0.003     -0.860      0.391      -0.008       0.003\n",
      "video views                -0.0028      0.001     -1.860      0.064      -0.006       0.000\n",
      "subscribers                -8.7028      0.917     -9.490      0.000     -10.507      -6.898\n",
      "highest_yearly_earnings     3.4972      1.899      1.841      0.067      -0.241       7.235\n",
      "==============================================================================\n",
      "Omnibus:                       19.303   Durbin-Watson:                   0.059\n",
      "Prob(Omnibus):                  0.000   Jarque-Bera (JB):               21.858\n",
      "Skew:                           0.654   Prob(JB):                     1.79e-05\n",
      "Kurtosis:                       2.835   Cond. No.                     2.89e+04\n",
      "==============================================================================\n",
      "\n",
      "Notes:\n",
      "[1] Standard Errors assume that the covariance matrix of the errors is correctly specified.\n",
      "[2] The condition number is large, 2.89e+04. This might indicate that there are\n",
      "strong multicollinearity or other numerical problems.\n"
     ]
    }
   ],
   "source": [
    "# Example 2: Multiple Linear Regression\n",
    "# Study how multiple features affect house price\n",
    "# Prepare multiple independent variables\n",
    "import statsmodels.api as sm\n",
    "X_multi = df[['uploads', 'video views', 'subscribers', 'highest_yearly_earnings']]\n",
    "y_multi = df['rank']\n",
    "X_multi = sm.add_constant(X_multi)\n",
    "\n",
    "# Fit multiple regression model\n",
    "multi_model = sm.OLS(y_multi, X_multi).fit()\n",
    "\n",
    "print(\"\\nMultiple Linear Regression Results:\")\n",
    "print(multi_model.summary())"
   ]
  },
  {
   "cell_type": "code",
   "execution_count": 685,
   "id": "0a9d6be0-adb7-4940-9f8f-5c681bc52b86",
   "metadata": {},
   "outputs": [
    {
     "data": {
      "text/plain": [
       "(0.0, 1000.0)"
      ]
     },
     "execution_count": 685,
     "metadata": {},
     "output_type": "execute_result"
    },
    {
     "data": {
      "image/png": "[encoded data removed]",
      "text/plain": [
       "<Figure size 640x480 with 1 Axes>"
      ]
     },
     "metadata": {},
     "output_type": "display_data"
    }
   ],
   "source": [
    "# Regression Plot\n",
    "sns.regplot(data=df, x='subscribers', y='rank')\n",
    "plt.title(\"Regression Plot of Number of Subscribers and Rank\")  # Title\n",
    "plt.xlabel('Number of Subscribers (in Millions)')\n",
    "plt.ylabel('Rank')\n",
    "plt.ylim(0, 1000)"
   ]
  },
  {
   "cell_type": "markdown",
   "id": "11ee41f0-b696-4d66-a877-defafd5f9ba3",
   "metadata": {},
   "source": [
    "#### The results from the multiple linear regression shows a relatively weak relationship, as the adjusted R-squared is 0.368, meaning 36.8% of the variation in the dependent variable (rank) is explained by the independent variables (uploads, video views, subscribers, highest yearly earnings) in the model. However, we also see that subscribers is statistically significant since the p-value is lower than 0.05, meaning as subscribers decrease, rank decreases. Note that the lower the rank is, the most successful the account it. No other varaible is statistically significant."
   ]
  }
 ],
 "metadata": {
  "kernelspec": {
   "display_name": "Python [conda env:base] *",
   "language": "python",
   "name": "conda-base-py"
  },
  "language_info": {
   "codemirror_mode": {
    "name": "ipython",
    "version": 3
   },
   "file_extension": ".py",
   "mimetype": "text/x-python",
   "name": "python",
   "nbconvert_exporter": "python",
   "pygments_lexer": "ipython3",
   "version": "3.12.7"
  }
 },
 "nbformat": 4,
 "nbformat_minor": 5
}
